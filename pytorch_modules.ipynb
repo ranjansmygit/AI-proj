{
  "nbformat": 4,
  "nbformat_minor": 0,
  "metadata": {
    "colab": {
      "provenance": [],
      "authorship_tag": "ABX9TyNAoFWADVJbc45KOcZBnWP6",
      "include_colab_link": true
    },
    "kernelspec": {
      "name": "python3",
      "display_name": "Python 3"
    },
    "language_info": {
      "name": "python"
    }
  },
  "cells": [
    {
      "cell_type": "markdown",
      "metadata": {
        "id": "view-in-github",
        "colab_type": "text"
      },
      "source": [
        "<a href=\"https://colab.research.google.com/github/ranjansmygit/AI-proj/blob/main/pytorch_modules.ipynb\" target=\"_parent\"><img src=\"https://colab.research.google.com/assets/colab-badge.svg\" alt=\"Open In Colab\"/></a>"
      ]
    },
    {
      "cell_type": "code",
      "execution_count": 3,
      "metadata": {
        "colab": {
          "base_uri": "https://localhost:8080/"
        },
        "id": "ZoVCvYG1eORj",
        "outputId": "4c9a4d7a-7abf-4e5a-8452-235251ae2cb2"
      },
      "outputs": [
        {
          "output_type": "stream",
          "name": "stdout",
          "text": [
            "The Model:\n",
            "TinyModel(\n",
            "  (linear1): Linear(in_features=100, out_features=200, bias=True)\n",
            "  (activation): ReLU()\n",
            "  (linear2): Linear(in_features=200, out_features=10, bias=True)\n",
            "  (softmax): Softmax(dim=None)\n",
            ")\n",
            "\n",
            " Just one layer:\n",
            "Linear(in_features=200, out_features=10, bias=True)\n",
            "\n",
            " Model Params:\n",
            "Parameter containing:\n",
            "tensor([[ 0.0282,  0.0860,  0.0303,  ..., -0.0116, -0.0238,  0.0361],\n",
            "        [-0.0951,  0.0130, -0.0425,  ..., -0.0748,  0.1000,  0.0116],\n",
            "        [-0.0155,  0.0345, -0.0972,  ..., -0.0837, -0.0819, -0.0577],\n",
            "        ...,\n",
            "        [-0.0391,  0.0972, -0.0952,  ..., -0.0171,  0.0486, -0.0808],\n",
            "        [-0.0708, -0.0048, -0.0031,  ..., -0.0436,  0.0209, -0.0372],\n",
            "        [ 0.0373, -0.0691, -0.0845,  ...,  0.0964,  0.0557,  0.0822]],\n",
            "       requires_grad=True)\n",
            "Parameter containing:\n",
            "tensor([-0.0213, -0.0380, -0.0232,  0.0614, -0.0940,  0.0032,  0.0672,  0.0841,\n",
            "         0.0501,  0.0843, -0.0804,  0.0372,  0.0009, -0.0292,  0.0958, -0.0953,\n",
            "         0.0359,  0.0784,  0.0283,  0.0092,  0.0550, -0.0991, -0.0188, -0.0014,\n",
            "        -0.0240, -0.0607,  0.0745, -0.0928,  0.0975, -0.0404, -0.0060,  0.0787,\n",
            "         0.0509,  0.0277,  0.0772, -0.0268, -0.0011,  0.0436, -0.0197, -0.0325,\n",
            "        -0.0867, -0.0027,  0.0971,  0.0481,  0.0754, -0.0740,  0.0526,  0.0433,\n",
            "         0.0280, -0.0360,  0.0228, -0.0751, -0.0672, -0.0475, -0.0145,  0.0963,\n",
            "        -0.0543,  0.0222,  0.0045, -0.0080, -0.0194, -0.0437, -0.0725, -0.0194,\n",
            "         0.0358, -0.0220, -0.0154, -0.0223, -0.0848,  0.0587, -0.0295,  0.0913,\n",
            "        -0.0436, -0.0531,  0.0310, -0.0391, -0.0281, -0.0161,  0.0059, -0.0420,\n",
            "        -0.0861, -0.0929,  0.0819,  0.0944,  0.0278, -0.0604, -0.0469, -0.0539,\n",
            "        -0.0941, -0.0432, -0.0820, -0.0159,  0.0218, -0.0847, -0.0441,  0.0544,\n",
            "         0.0818,  0.0125,  0.0832,  0.0246,  0.0884, -0.0187,  0.0577, -0.0326,\n",
            "        -0.0070,  0.0316,  0.0265, -0.0059,  0.0618, -0.0982, -0.0517, -0.0072,\n",
            "        -0.0342,  0.0247, -0.0109,  0.0047,  0.0647, -0.0510,  0.0590,  0.0458,\n",
            "        -0.0231,  0.0251, -0.0751, -0.0733, -0.0763, -0.0414,  0.0245,  0.0970,\n",
            "         0.0797,  0.0387,  0.0387, -0.0034, -0.0098, -0.0579, -0.0580,  0.0881,\n",
            "        -0.0914, -0.0588,  0.0082,  0.0501, -0.0769,  0.0322, -0.0527, -0.0777,\n",
            "         0.0425, -0.0671, -0.0917,  0.0384,  0.0439,  0.0419, -0.0863, -0.0742,\n",
            "         0.0945, -0.0249, -0.0318, -0.0631,  0.0381,  0.0394,  0.0376,  0.0546,\n",
            "        -0.0741, -0.0787, -0.0902,  0.0348,  0.0325,  0.0895, -0.0474,  0.0387,\n",
            "        -0.0904,  0.0573, -0.0078, -0.0681,  0.0760, -0.0489,  0.0732, -0.0524,\n",
            "         0.0746,  0.0198, -0.0771,  0.0845, -0.0983,  0.0747, -0.0163,  0.0075,\n",
            "        -0.0971, -0.0095, -0.0691, -0.0013,  0.0980,  0.0915, -0.0719,  0.0073,\n",
            "         0.0725, -0.0813,  0.0557,  0.0199, -0.0242, -0.0434,  0.0826,  0.0584],\n",
            "       requires_grad=True)\n",
            "Parameter containing:\n",
            "tensor([[-0.0475, -0.0262,  0.0503,  ...,  0.0263, -0.0678,  0.0353],\n",
            "        [-0.0612, -0.0160,  0.0116,  ...,  0.0568,  0.0685, -0.0647],\n",
            "        [-0.0365, -0.0143, -0.0603,  ..., -0.0522,  0.0150,  0.0359],\n",
            "        ...,\n",
            "        [-0.0453, -0.0394,  0.0368,  ..., -0.0384, -0.0011,  0.0492],\n",
            "        [-0.0296, -0.0058, -0.0541,  ...,  0.0191, -0.0664, -0.0523],\n",
            "        [-0.0057, -0.0582,  0.0414,  ...,  0.0143, -0.0441,  0.0079]],\n",
            "       requires_grad=True)\n",
            "Parameter containing:\n",
            "tensor([-0.0348,  0.0257,  0.0374,  0.0644, -0.0155,  0.0031,  0.0312, -0.0358,\n",
            "        -0.0194,  0.0537], requires_grad=True)\n",
            "\n",
            " Layer params:\n",
            "Parameter containing:\n",
            "tensor([[-0.0475, -0.0262,  0.0503,  ...,  0.0263, -0.0678,  0.0353],\n",
            "        [-0.0612, -0.0160,  0.0116,  ...,  0.0568,  0.0685, -0.0647],\n",
            "        [-0.0365, -0.0143, -0.0603,  ..., -0.0522,  0.0150,  0.0359],\n",
            "        ...,\n",
            "        [-0.0453, -0.0394,  0.0368,  ..., -0.0384, -0.0011,  0.0492],\n",
            "        [-0.0296, -0.0058, -0.0541,  ...,  0.0191, -0.0664, -0.0523],\n",
            "        [-0.0057, -0.0582,  0.0414,  ...,  0.0143, -0.0441,  0.0079]],\n",
            "       requires_grad=True)\n",
            "Parameter containing:\n",
            "tensor([-0.0348,  0.0257,  0.0374,  0.0644, -0.0155,  0.0031,  0.0312, -0.0358,\n",
            "        -0.0194,  0.0537], requires_grad=True)\n"
          ]
        }
      ],
      "source": [
        "import torch\n",
        "\n",
        "class TinyModel(torch.nn.Module):\n",
        "\n",
        "  def __init__(self):\n",
        "    super(TinyModel, self).__init__()\n",
        "\n",
        "    self.linear1 = torch.nn.Linear(100, 200)\n",
        "    self.activation = torch.nn.ReLU()\n",
        "    self.linear2 = torch.nn.Linear(200, 10)\n",
        "    self.softmax = torch.nn.Softmax()\n",
        "\n",
        "  def forward(self, x):\n",
        "    x = self.linear1(x)\n",
        "    x = self.activation(x)\n",
        "    x = self.linear2(x)\n",
        "    x = self.softmax(x)\n",
        "    return x\n",
        "\n",
        "tinymodel = TinyModel()\n",
        "\n",
        "print('The Model:')\n",
        "print(tinymodel)\n",
        "\n",
        "print('\\n Just one layer:')\n",
        "print(tinymodel.linear2)\n",
        "\n",
        "print('\\n Model Params:')\n",
        "for param in tinymodel.parameters():\n",
        "  print(param)\n",
        "\n",
        "print('\\n Layer params:')\n",
        "for param in tinymodel.linear2.parameters():\n",
        "  print(param)"
      ]
    },
    {
      "cell_type": "markdown",
      "source": [
        "Split that into X and Y, where Y will be the predicted value, **logS**"
      ],
      "metadata": {
        "id": "8hm1xhD4fyXW"
      }
    },
    {
      "cell_type": "markdown",
      "source": [],
      "metadata": {
        "id": "GMTDh9N3hHRM"
      }
    }
  ]
}